{
  "nbformat": 4,
  "nbformat_minor": 0,
  "metadata": {
    "colab": {
      "provenance": []
    },
    "kernelspec": {
      "name": "python3",
      "display_name": "Python 3"
    },
    "language_info": {
      "name": "python"
    }
  },
  "cells": [
    {
      "cell_type": "code",
      "source": [
        "import re\n",
        "import requests\n",
        "from bs4 import BeautifulSoup\n",
        "from IPython.display import clear_output\n",
        "\n",
        "class PPlugin:\n",
        "    def __init__(self):\n",
        "        pass\n",
        "\n",
        "    def identification(self, text):\n",
        "        clear_output(wait=True)\n",
        "\n",
        "        product_keywords = re.findall(r'\\b[A-Za-z0-9]+\\s*[A-Za-z0-9]+\\b', text)\n",
        "        product_keywords = [keyword for keyword in product_keywords if len(keyword) > 2]\n",
        "        print(f\"Identified potential products: {product_keywords}\")\n",
        "\n",
        "        search_results = {}\n",
        "        for keyword in product_keywords:\n",
        "            search_query = f\"https://www.google.com/search?q={keyword.replace(' ', '+')}\"\n",
        "            response = requests.get(search_query)\n",
        "            soup = BeautifulSoup(response.content, \"html.parser\")\n",
        "            search_results[keyword] = []\n",
        "\n",
        "            for link in soup.find_all('a', href=True):\n",
        "                if \"url?q=\" in link['href']:\n",
        "                    url = link['href'].split(\"url?q=\")[1].split(\"&sa=U\")[0]\n",
        "                    search_results[keyword].append(url)\n",
        "\n",
        "        for keyword, urls in search_results.items():\n",
        "            print(f\"\\nSearch results for '{keyword}':\")\n",
        "            if urls:\n",
        "                for url in urls[:5]:\n",
        "                    print(url)\n",
        "            else:\n",
        "                print(\"No results found.\")\n",
        "\n",
        "    def run(self):\n",
        "        while True:\n",
        "            user_input = input(\"Enter your text post (or 0 to exit): \")\n",
        "            if user_input == \"0\":\n",
        "                break\n",
        "            self.identify_products_and_search(user_input)\n",
        "\n",
        "# Example usage:\n",
        "if __name__ == \"__main__\":\n",
        "    plugin = PPlugin()\n",
        "    plugin.run()"
      ],
      "metadata": {
        "colab": {
          "base_uri": "https://localhost:8080/"
        },
        "id": "L6H-8Xffk7LL",
        "outputId": "5ff3a24a-a0e2-4b4f-af03-61957ebfa658"
      },
      "execution_count": 12,
      "outputs": [
        {
          "name": "stdout",
          "output_type": "stream",
          "text": [
            "Identified potential products: ['Tanishq']\n",
            "\n",
            "Search results for 'Tanishq':\n",
            "/search%3Fq%3DTanishq%26sca_esv%3D0eb7b51a067c4b23%26ie%3DUTF-8%26tbm%3Dshop%26source%3Dlnms%26ved%3D1t:200713%26ictx%3D111&opi=89978449\n",
            "https://maps.google.com/maps%3Fq%3DTanishq%26um%3D1%26ie%3DUTF-8%26ved%3D1t:200713%26ictx%3D111&opi=89978449\n",
            "https://www.tanishq.co.in/\n",
            "https://www.tanishq.co.in/shop/womens-jewellery%3Flang%3Den_IN\n",
            "https://www.tanishq.co.in/shop/necklace-set%3Flang%3Den_IN\n",
            "Enter your text post (or 0 to exit): 0\n"
          ]
        }
      ]
    },
    {
      "cell_type": "code",
      "source": [],
      "metadata": {
        "id": "feNfPJF7k7m0"
      },
      "execution_count": null,
      "outputs": []
    }
  ]
}