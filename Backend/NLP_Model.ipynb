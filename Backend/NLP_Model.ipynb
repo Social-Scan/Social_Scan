{
  "nbformat": 4,
  "nbformat_minor": 0,
  "metadata": {
    "colab": {
      "provenance": []
    },
    "kernelspec": {
      "name": "python3",
      "display_name": "Python 3"
    },
    "language_info": {
      "name": "python"
    }
  },
  "cells": [
    {
      "source": [
        "import re\n",
        "import requests\n",
        "from bs4 import BeautifulSoup\n",
        "from IPython.display import clear_output\n",
        "\n",
        "class PPlugin:\n",
        "    def __init__(self):\n",
        "        pass\n",
        "\n",
        "    def identification(self, text):\n",
        "        clear_output(wait=True)\n",
        "\n",
        "        product_keywords = re.findall(r'\\b[A-Za-z0-9]+\\s*[A-Za-z0-9]+\\b', text)\n",
        "        product_keywords = [keyword for keyword in product_keywords if len(keyword) > 2]\n",
        "        print(f\"Identified potential products: {product_keywords}\")\n",
        "\n",
        "        search_results = {}\n",
        "        for keyword in product_keywords:\n",
        "            search_query = f\"https://www.google.com/search?q={keyword.replace(' ', '+')}\"\n",
        "            response = requests.get(search_query)\n",
        "            soup = BeautifulSoup(response.content, \"html.parser\")\n",
        "            search_results[keyword] = []\n",
        "\n",
        "            for link in soup.find_all('a', href=True):\n",
        "                if \"url?q=\" in link['href']:\n",
        "                    url = link['href'].split(\"url?q=\")[1].split(\"&sa=U\")[0]\n",
        "                    search_results[keyword].append(url)\n",
        "\n",
        "        for keyword, urls in search_results.items():\n",
        "            print(f\"\\nSearch results for '{keyword}':\")\n",
        "            if urls:\n",
        "                for url in urls[:5]:\n",
        "                    print(url)\n",
        "            else:\n",
        "                print(\"No results found.\")\n",
        "\n",
        "    def run(self):\n",
        "        while True:\n",
        "            user_input = input(\"Enter your text post (or 0 to exit): \")\n",
        "            if user_input == \"0\":\n",
        "                break\n",
        "            self.identification(user_input)\n",
        "\n",
        "if __name__ == \"__main__\":\n",
        "    plugin = PPlugin()\n",
        "    plugin.run()"
      ],
      "cell_type": "code",
      "metadata": {
        "colab": {
          "base_uri": "https://localhost:8080/"
        },
        "id": "4N-pOzy9NKTY",
        "outputId": "67d8044d-000d-4c88-97f8-88884d2c4627"
      },
      "execution_count": null,
      "outputs": [
        {
          "output_type": "stream",
          "name": "stdout",
          "text": [
            "Identified potential products: ['I PHONE']\n",
            "\n",
            "Search results for 'I PHONE':\n",
            "/search%3Fq%3DI%2BPHONE%26sca_esv%3D4b3db9351712b765%26ie%3DUTF-8%26tbm%3Dshop%26source%3Dlnms%26ved%3D1t:200713%26ictx%3D111&opi=89978449\n",
            "https://maps.google.com/maps%3Fq%3DI%2BPHONE%26um%3D1%26ie%3DUTF-8%26ved%3D1t:200713%26ictx%3D111&opi=89978449\n",
            "/search%3Fq%3DI%2BPHONE%26sca_esv%3D4b3db9351712b765%26ie%3DUTF-8%26source%3Duniv%26tbm%3Dshop%26tbo%3Du%26ved%3D1t:3123%26ictx%3D111\n",
            "https://www.apple.com/iphone/\n",
            "https://www.apple.com/shop/buy-iphone\n"
          ]
        }
      ]
    },
    {
      "cell_type": "code",
      "source": [],
      "metadata": {
        "id": "Tubmh1VCoY0B"
      },
      "execution_count": null,
      "outputs": []
    }
  ]
}